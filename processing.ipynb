{
 "cells": [
  {
   "cell_type": "code",
   "execution_count": 1,
   "metadata": {
    "collapsed": true
   },
   "outputs": [],
   "source": [
    "# Process the raw AFL_stats data and include game normalised data\n",
    "\n",
    "import pandas as pd\n",
    "import numpy as np\n",
    "from sklearn import preprocessing\n",
    "\n",
    "# Columns of interest\n",
    "column_names = [\"Player\", \"Team\", \"Opponent\", \"Round\", \"Kicks\", \"Marks\", \"Hand Balls\", \"Disp\", \"Goals\", \"Behinds\", \"Hit Outs\",\n",
    "                \"Tackles\", \"Rebounds\", \"Inside 50\", \"Clearances\", \"Clangers\", \"Frees For\", \"Frees Against\",\n",
    "                \"Uncontested Possessions\", \"Contested Possessions\", \"Contested Marks\", \"Marks Inside 50\",\n",
    "                \"One Percenters\", \"Bounces\", \"Brownlow\"]\n",
    "\n",
    "# 23 rounds starting from Round 1\n",
    "round_list = []\n",
    "for i in range(1, 24):\n",
    "    round_list.append(str(i))"
   ]
  },
  {
   "cell_type": "code",
   "execution_count": 2,
   "metadata": {
    "collapsed": true
   },
   "outputs": [],
   "source": [
    "# Create filename\n",
    "fname = \"AFL_stats/2016_stats.txt\"\n",
    "\n",
    "# Load data\n",
    "data = pd.read_csv(fname)\n",
    "\n",
    "# Extract columns of interest\n",
    "data = data.loc[:, column_names]\n",
    "\n",
    "# Ignore finals rows\n",
    "data = data[data.Round.isin(round_list)]\n",
    "\n",
    "# Generate list of team names\n",
    "team_names = data.Team.unique()\n",
    "\n",
    "# Create new team total stat headings\n",
    "game_col_names = column_names[4:24]\n",
    "for i in range(len(game_col_names)):\n",
    "    game_col_names[i] = game_col_names[i] + \" G\"\n",
    "\n",
    "# Create empty DataFrame to house all team normalized stats\n",
    "game_norm = pd.DataFrame(index=data.index, columns=game_col_names)\n",
    "game_norm = game_norm.fillna(value=0)"
   ]
  },
  {
   "cell_type": "code",
   "execution_count": 3,
   "metadata": {},
   "outputs": [
    {
     "name": "stderr",
     "output_type": "stream",
     "text": [
      "/Users/nicholashirons/anaconda/lib/python3.6/site-packages/sklearn/utils/validation.py:429: DataConversionWarning: Data with input dtype int64 was converted to float64 by MinMaxScaler.\n",
      "  warnings.warn(msg, _DataConversionWarning)\n"
     ]
    }
   ],
   "source": [
    "for round_num in round_list:\n",
    "    \n",
    "    for team in team_names:\n",
    "            \n",
    "        # Extract the data for one game in one round\n",
    "        team_playing = (data.Team == team) | (data.Opponent == team)\n",
    "        indices = (data.Round == round_num) & team_playing\n",
    "    \n",
    "        \n",
    "        # Check if team does not have a bye\n",
    "        # This also prevents zero array error in sklearn MinMaxScaler()\n",
    "        if sum(indices) > 0:\n",
    "            norm_data = data[indices]\n",
    "\n",
    "            # Crop to values of interest\n",
    "            # 24 columns, last is brownlow\n",
    "            norm_data = norm_data.iloc[:, 4:24]\n",
    "            \n",
    "            # Perform min-max scaling by game\n",
    "            game_array = norm_data.values #returns a numpy array\n",
    "            scaler = preprocessing.MinMaxScaler()\n",
    "            game_norm_array = scaler.fit_transform(game_array)\n",
    "            \n",
    "            # Add normalized array to game normalized DataFRame\n",
    "            game_norm[indices] = game_norm_array\n",
    "            \n",
    "year_series = pd.Series(index=data.index, data='2016', name=\"Year\")\n",
    "\n",
    "output_data = pd.concat([data.Player, year_series, data.iloc[:, 4:24], game_norm, data.Brownlow], axis=1)\n",
    "\n",
    "fname = \"stats_team/2016_stats_norm.csv\"\n",
    "output_data.to_csv(fname, index=False)"
   ]
  },
  {
   "cell_type": "code",
   "execution_count": null,
   "metadata": {
    "collapsed": true
   },
   "outputs": [],
   "source": []
  }
 ],
 "metadata": {
  "kernelspec": {
   "display_name": "Python 3",
   "language": "python",
   "name": "python3"
  },
  "language_info": {
   "codemirror_mode": {
    "name": "ipython",
    "version": 3
   },
   "file_extension": ".py",
   "mimetype": "text/x-python",
   "name": "python",
   "nbconvert_exporter": "python",
   "pygments_lexer": "ipython3",
   "version": "3.6.1"
  }
 },
 "nbformat": 4,
 "nbformat_minor": 2
}
